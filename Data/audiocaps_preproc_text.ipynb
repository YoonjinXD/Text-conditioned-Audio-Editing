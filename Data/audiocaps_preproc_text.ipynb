{
 "cells": [
  {
   "cell_type": "code",
   "execution_count": 1,
   "metadata": {},
   "outputs": [],
   "source": [
    "import csv\n",
    "import pickle\n",
    "import os\n",
    "from tqdm.notebook import tqdm"
   ]
  },
  {
   "cell_type": "code",
   "execution_count": 14,
   "metadata": {},
   "outputs": [],
   "source": [
    "def save_caption_as_txt(save_path, datasplit: str, youtube_id: str, caption: str):\n",
    "    if datasplit not in ['train', 'val', 'test']:\n",
    "        raise ValueError(f'datasplit {datasplit} should be train, val or test.')\n",
    "    \n",
    "    save_dir = os.path.join(save_path, 'text', datasplit)\n",
    "    os.makedirs(save_dir, exist_ok=True)\n",
    "    with open(os.path.join(save_dir, f'{youtube_id}.txt'), 'w') as f:\n",
    "        f.write(caption)\n",
    "    "
   ]
  },
  {
   "cell_type": "code",
   "execution_count": 15,
   "metadata": {},
   "outputs": [],
   "source": [
    "save_path = './'"
   ]
  },
  {
   "cell_type": "code",
   "execution_count": 16,
   "metadata": {},
   "outputs": [
    {
     "data": {
      "application/vnd.jupyter.widget-view+json": {
       "model_id": "bd28e360b3c4430aacfc019e271a096d",
       "version_major": 2,
       "version_minor": 0
      },
      "text/plain": [
       "0it [00:00, ?it/s]"
      ]
     },
     "metadata": {},
     "output_type": "display_data"
    }
   ],
   "source": [
    "caps_csv_path = './test.csv'\n",
    "\n",
    "with open(caps_csv_path, 'r') as f_read:\n",
    "    datasplit = '.'.join(os.path.basename(caps_csv_path).split('.')[:-1])\n",
    "    csv_reader = csv.DictReader(f_read)\n",
    "    \n",
    "    \n",
    "    for row in tqdm(csv_reader): # row.keys(): audiocap_id,youtube_id,start_time,caption\n",
    "        save_caption_as_txt(save_path, datasplit, row['youtube_id'], row['caption'])"
   ]
  },
  {
   "cell_type": "code",
   "execution_count": 3,
   "metadata": {},
   "outputs": [
    {
     "data": {
      "application/vnd.jupyter.widget-view+json": {
       "model_id": "4b2db56ef4b44c79a063052dbf8d105d",
       "version_major": 2,
       "version_minor": 0
      },
      "text/plain": [
       "  0%|          | 0/45555 [00:00<?, ?it/s]"
      ]
     },
     "metadata": {},
     "output_type": "display_data"
    },
    {
     "data": {
      "application/vnd.jupyter.widget-view+json": {
       "model_id": "2a440bd930164cf5bd0e6e826256f42a",
       "version_major": 2,
       "version_minor": 0
      },
      "text/plain": [
       "  0%|          | 0/448 [00:00<?, ?it/s]"
      ]
     },
     "metadata": {},
     "output_type": "display_data"
    },
    {
     "data": {
      "application/vnd.jupyter.widget-view+json": {
       "model_id": "e05a80ba7e4844419a682c8d5dc83926",
       "version_major": 2,
       "version_minor": 0
      },
      "text/plain": [
       "  0%|          | 0/203 [00:00<?, ?it/s]"
      ]
     },
     "metadata": {},
     "output_type": "display_data"
    }
   ],
   "source": [
    "# create name_list.pkl according to existing mel files\n",
    "\n",
    "dataroot_dir = './caps_full/'\n",
    "\n",
    "phase_list = ['train', 'val', 'test']\n",
    "\n",
    "for phase in phase_list:\n",
    "    name_list = []\n",
    "    target_dir = os.path.join(dataroot_dir, phase)\n",
    "    for f in tqdm(os.listdir(target_dir)):\n",
    "        if os.path.isfile(os.path.join(target_dir, f)):\n",
    "            name_list.append(f.split('_mel.npy')[0])\n",
    "    \n",
    "    with open(os.path.join(target_dir, 'name_list.pkl'), 'wb') as f_write:\n",
    "        pickle.dump(name_list, f_write)"
   ]
  },
  {
   "cell_type": "code",
   "execution_count": 21,
   "metadata": {},
   "outputs": [
    {
     "name": "stdout",
     "output_type": "stream",
     "text": [
      "['sZPuqDgX2V0', 'zVacuqSb4LI', 'vZAqdHZ81yA', 'tG_cFnX0GHI', 'tDlfY3nmx1A', 'ugHJF0hfYkg', 'uK5doE8g_nY', 'sLUnaPT5gM8', 'zl9Dqx-j7q4', 'wvmLR1nQ1qs']\n",
      "448\n",
      "['0m9QkjCVwcU', '2NJEnHksOek', '6ALmUxLpPVQ', 'mIqTJ8imykI', 'nXjxnr6zR-Q', 'VqC9sy1EtvU', 'fH1RbSwYqik', '-39Vd0B4pXw', '2wKP1A8On1E', '2Naar7sXFGk']\n",
      "45555\n",
      "['sqsI2UyrcBQ', 'oOMtaqvQ3_M', 'SE_3nszEw7o', 'lh801oHGtD4', 'Ch0LMmhBUg4', 'hJtOGmN_KVw', '6BJ455B1aAs', 'HeEa1GZpUGI', 'J0yeFeKvIt8', 'OpiWMltpj44']\n",
      "203\n"
     ]
    }
   ],
   "source": [
    "# check contents in 'name_list.pkl'\n",
    "\n",
    "with open('./val/name_list.pkl', 'rb') as f:\n",
    "    namelist = pickle.load(f)\n",
    "    print(namelist[:10])\n",
    "    print(len(namelist))\n",
    "\n",
    "with open('./train/name_list.pkl', 'rb') as f:\n",
    "    namelist = pickle.load(f)\n",
    "    print(namelist[:10])\n",
    "    print(len(namelist))\n",
    "\n",
    "with open('./test/name_list.pkl', 'rb') as f:\n",
    "    namelist = pickle.load(f)\n",
    "    print(namelist[:10])\n",
    "    print(len(namelist))"
   ]
  },
  {
   "cell_type": "code",
   "execution_count": 19,
   "metadata": {},
   "outputs": [
    {
     "data": {
      "text/plain": [
       "['0m9QkjCVwcU',\n",
       " '2NJEnHksOek',\n",
       " '6ALmUxLpPVQ',\n",
       " 'mIqTJ8imykI',\n",
       " 'nXjxnr6zR-Q',\n",
       " 'VqC9sy1EtvU',\n",
       " 'fH1RbSwYqik',\n",
       " '-39Vd0B4pXw',\n",
       " '2wKP1A8On1E',\n",
       " '2Naar7sXFGk']"
      ]
     },
     "execution_count": 19,
     "metadata": {},
     "output_type": "execute_result"
    }
   ],
   "source": [
    "test_list = pickle.load(open('./train/name_list.pkl', 'rb'), encoding=\"bytes\")\n",
    "test_list[:10]"
   ]
  },
  {
   "cell_type": "code",
   "execution_count": 5,
   "metadata": {},
   "outputs": [],
   "source": [
    "# for single instance test\n",
    "phases = ['train', 'val', 'test']\n",
    "\n",
    "for phase in phases:\n",
    "    namelist_dir = f'./Cat is whistling/{phase}/'\n",
    "    os.makedirs(namelist_dir, exist_ok=True)\n",
    "    with open(os.path.join(namelist_dir, 'name_list.pkl'), 'wb') as f:\n",
    "        pickle.dump(['3eGXNIadwGk'], f)"
   ]
  }
 ],
 "metadata": {
  "kernelspec": {
   "display_name": "Python 3.8.13",
   "language": "python",
   "name": "python3"
  },
  "language_info": {
   "codemirror_mode": {
    "name": "ipython",
    "version": 3
   },
   "file_extension": ".py",
   "mimetype": "text/x-python",
   "name": "python",
   "nbconvert_exporter": "python",
   "pygments_lexer": "ipython3",
   "version": "3.8.13"
  },
  "orig_nbformat": 4,
  "vscode": {
   "interpreter": {
    "hash": "285264403d15ac4a63e9f4336fb8f229aa8d97fc358fc2f6936e90321e8e4019"
   }
  }
 },
 "nbformat": 4,
 "nbformat_minor": 2
}
