{
 "cells": [
  {
   "cell_type": "code",
   "execution_count": 3,
   "metadata": {},
   "outputs": [],
   "source": [
    "import os\n",
    "import sys\n",
    "sys.path.append(os.path.abspath('../Codebook'))\n",
    "\n",
    "import numpy as np\n",
    "import pandas as pd\n",
    "import librosa\n",
    "from tqdm import tqdm\n",
    "\n",
    "from feature_extraction.extract_mel_spectrogram import *"
   ]
  },
  {
   "cell_type": "code",
   "execution_count": 4,
   "metadata": {},
   "outputs": [],
   "source": [
    "def get_spectrogram(y_id, audio_path, save_path, start_time, duration_sec=10):\n",
    "    wav, sr = librosa.load(audio_path, sr=22050)\n",
    "    \n",
    "    length = sr*duration_sec\n",
    "    y = np.zeros(length)\n",
    "    if wav.shape[0] < length:\n",
    "        y[:len(wav)] = wav\n",
    "    else:\n",
    "        y = wav[start_time:start_time+length]\n",
    "    \n",
    "    mel_spec = TRANSFORMS(y)\n",
    "    \n",
    "    np.save(os.path.join(save_path, y_id + '_mel.npy'), mel_spec)"
   ]
  },
  {
   "cell_type": "code",
   "execution_count": 5,
   "metadata": {},
   "outputs": [],
   "source": [
    "phase_name = 'train'\n",
    "audio_root = '/media/daftpunk2/home/jakeoneijk/221008_audio_caps/audiocaps_audio_dataset'\n",
    "save_root = 'caps_full'"
   ]
  },
  {
   "cell_type": "code",
   "execution_count": 2,
   "metadata": {},
   "outputs": [],
   "source": [
    "f_dict = {}\n",
    "audio_path = os.path.join(audio_root, phase_name)\n",
    "save_path = os.path.join(save_root, phase_name)\n",
    "\n",
    "for f in os.listdir(audio_path):\n",
    "    f_dict[f.split(']_')[0].strip('[')] = os.path.join(audio_path, f)"
   ]
  },
  {
   "cell_type": "code",
   "execution_count": null,
   "metadata": {},
   "outputs": [],
   "source": [
    "df = pd.read_csv(f'./{phase_name}.csv')\n",
    "not_found_cnt = 0\n",
    "\n",
    "for idx in tqdm(range(len(df))):\n",
    "    data = df.iloc[idx]\n",
    "    y_id = data['youtube_id']\n",
    "    start_time = data['start_time']\n",
    "    try:\n",
    "        get_spectrogram(y_id, f_dict[y_id], phase_name, start_time)\n",
    "    except:\n",
    "        not_found_cnt += 1\n",
    "    \n",
    "print('Not found num = ', not_found_cnt)"
   ]
  },
  {
   "cell_type": "code",
   "execution_count": 19,
   "metadata": {},
   "outputs": [
    {
     "name": "stdout",
     "output_type": "stream",
     "text": [
      "[0. 0. 0. ... 0. 0. 0.] 44100\n"
     ]
    }
   ],
   "source": [
    "for f in os.listdir(audio_path):\n",
    "    wav, sr = librosa.load(os.path.join(audio_path, f), sr=None)\n",
    "    print(wav, sr)\n",
    "    break"
   ]
  },
  {
   "cell_type": "code",
   "execution_count": null,
   "metadata": {},
   "outputs": [],
   "source": []
  }
 ],
 "metadata": {
  "kernelspec": {
   "display_name": "Python 3.8.8 (conda)",
   "language": "python",
   "name": "python3"
  },
  "language_info": {
   "codemirror_mode": {
    "name": "ipython",
    "version": 3
   },
   "file_extension": ".py",
   "mimetype": "text/x-python",
   "name": "python",
   "nbconvert_exporter": "python",
   "pygments_lexer": "ipython3",
   "version": "3.8.8"
  },
  "vscode": {
   "interpreter": {
    "hash": "57e44f573e1c79be2bf9ef7ab68f1d54b5bf5d8c47bf85e7907949da70fac8cb"
   }
  }
 },
 "nbformat": 4,
 "nbformat_minor": 2
}
